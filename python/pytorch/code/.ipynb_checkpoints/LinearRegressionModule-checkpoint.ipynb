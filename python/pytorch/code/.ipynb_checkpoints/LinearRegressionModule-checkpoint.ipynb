{
 "cells": [
  {
   "cell_type": "code",
   "execution_count": 7,
   "id": "cd32a58c",
   "metadata": {},
   "outputs": [],
   "source": [
    "import torch\n",
    "import torch.nn as nn\n",
    "import numpy as np"
   ]
  },
  {
   "cell_type": "markdown",
   "id": "c68741b2",
   "metadata": {},
   "source": [
    "导入pytorch库、numpy库"
   ]
  },
  {
   "cell_type": "code",
   "execution_count": 8,
   "id": "a22df3c0",
   "metadata": {},
   "outputs": [
    {
     "data": {
      "text/plain": [
       "'2.0.0+cu117'"
      ]
     },
     "execution_count": 8,
     "metadata": {},
     "output_type": "execute_result"
    }
   ],
   "source": [
    "torch.__version__"
   ]
  },
  {
   "cell_type": "code",
   "execution_count": 17,
   "id": "4e2b4769",
   "metadata": {},
   "outputs": [],
   "source": [
    "class LinearRegressionModule(nn.Module):\n",
    "    def __init__(self,input_dim, output_dim):\n",
    "        super(LinearRegressionModule, self).__init__()\n",
    "        self.linear = nn.Linear(input_dim, output_dim)\n",
    "        \n",
    "    def forward(self, x):\n",
    "        out = self.linear(x)\n",
    "        return out"
   ]
  },
  {
   "cell_type": "markdown",
   "id": "cf947c8d",
   "metadata": {},
   "source": [
    "定义一个线性回归模型的函数，继承了nn.Module的所有属性，并且加入self.linear属性来指定输入输出数据的维度。"
   ]
  },
  {
   "cell_type": "code",
   "execution_count": 38,
   "id": "1bea4a46",
   "metadata": {},
   "outputs": [
    {
     "data": {
      "text/plain": [
       "(11, 1)"
      ]
     },
     "execution_count": 38,
     "metadata": {},
     "output_type": "execute_result"
    }
   ],
   "source": [
    "x_train = [i for i in range(11)]\n",
    "x_train = np.array(x_train)\n",
    "x_train = x_train.astype(np.float32)\n",
    "x_train = x_train.reshape(-1,1)\n",
    "x_train.shape"
   ]
  },
  {
   "cell_type": "code",
   "execution_count": 41,
   "id": "c2e900eb",
   "metadata": {},
   "outputs": [
    {
     "data": {
      "text/plain": [
       "(11, 1)"
      ]
     },
     "execution_count": 41,
     "metadata": {},
     "output_type": "execute_result"
    }
   ],
   "source": [
    "y_train = [2*i+1 for i in range(11)]\n",
    "y_train = np.array(y_train)\n",
    "y_train = y_train.astype(np.float32)\n",
    "y_train = y_train.reshape(-1,1)\n",
    "y_train.shape"
   ]
  },
  {
   "cell_type": "code",
   "execution_count": 33,
   "id": "de09bbbc",
   "metadata": {},
   "outputs": [],
   "source": [
    "input_dim = 1\n",
    "output_dim = 1"
   ]
  },
  {
   "cell_type": "code",
   "execution_count": 60,
   "id": "5503d48a",
   "metadata": {},
   "outputs": [
    {
     "data": {
      "text/plain": [
       "LinearRegressionModule(\n",
       "  (linear): Linear(in_features=1, out_features=1, bias=True)\n",
       ")"
      ]
     },
     "execution_count": 60,
     "metadata": {},
     "output_type": "execute_result"
    }
   ],
   "source": [
    "model = LinearRegressionModule(input_dim, output_dim)\n",
    "#指定gpu对模型进行训练，需要传入的参数有 模型、训练数据\n",
    "device = torch.device(\"cuda:1\" if torch.cuda.is_available() else \"cpu\")\n",
    "model.to(device)"
   ]
  },
  {
   "cell_type": "code",
   "execution_count": 35,
   "id": "686ec545",
   "metadata": {},
   "outputs": [],
   "source": [
    "#定义损失函数、学习率\n",
    "criterion = nn.MSELoss()\n",
    "learning_rate = 0.01\n",
    "optimizer = torch.optim.SGD(model.parameters(), lr=learning_rate)"
   ]
  },
  {
   "cell_type": "code",
   "execution_count": 62,
   "id": "ddb545e0",
   "metadata": {},
   "outputs": [
    {
     "name": "stdout",
     "output_type": "stream",
     "text": [
      "epoch:5000,loss341.3797912597656\n",
      "epoch:10000,loss341.3797912597656\n",
      "epoch:15000,loss341.3797912597656\n",
      "epoch:20000,loss341.3797912597656\n",
      "epoch:25000,loss341.3797912597656\n",
      "epoch:30000,loss341.3797912597656\n",
      "epoch:35000,loss341.3797912597656\n",
      "epoch:40000,loss341.3797912597656\n",
      "epoch:45000,loss341.3797912597656\n",
      "epoch:50000,loss341.3797912597656\n",
      "epoch:55000,loss341.3797912597656\n",
      "epoch:60000,loss341.3797912597656\n",
      "epoch:65000,loss341.3797912597656\n",
      "epoch:70000,loss341.3797912597656\n",
      "epoch:75000,loss341.3797912597656\n",
      "epoch:80000,loss341.3797912597656\n",
      "epoch:85000,loss341.3797912597656\n",
      "epoch:90000,loss341.3797912597656\n",
      "epoch:95000,loss341.3797912597656\n",
      "epoch:100000,loss341.3797912597656\n"
     ]
    }
   ],
   "source": [
    "epochs = 100000\n",
    "for epoch in range(epochs):\n",
    "    epoch += 1\n",
    "    inputs = torch.from_numpy(x_train).to(device)\n",
    "    labels = torch.from_numpy(y_train).to(device)\n",
    "    \n",
    "    optimizer.zero_grad()\n",
    "    #向前传播\n",
    "    outputs = model.forward(inputs)\n",
    "    \n",
    "    #损失函数反向传播\n",
    "    loss = criterion(outputs, labels)\n",
    "    loss.backward()\n",
    "    \n",
    "    optimizer.step()\n",
    "    \n",
    "    if epoch % 5000 == 0:\n",
    "        print('epoch:{},loss{}'.format(epoch,loss.item()))"
   ]
  },
  {
   "cell_type": "code",
   "execution_count": 47,
   "id": "4de81a3a",
   "metadata": {},
   "outputs": [
    {
     "data": {
      "text/plain": [
       "array([[ 1.0000117],\n",
       "       [ 3.00001  ],\n",
       "       [ 5.000008 ],\n",
       "       [ 7.0000067],\n",
       "       [ 9.000005 ],\n",
       "       [11.000003 ],\n",
       "       [13.000001 ],\n",
       "       [14.999999 ],\n",
       "       [16.999998 ],\n",
       "       [18.999996 ],\n",
       "       [20.999994 ]], dtype=float32)"
      ]
     },
     "execution_count": 47,
     "metadata": {},
     "output_type": "execute_result"
    }
   ],
   "source": [
    "#测试模型预测结果\n",
    "predicted = model(torch.from_numpy(x_train).requires_grad_()).data.numpy()\n",
    "predicted"
   ]
  },
  {
   "cell_type": "markdown",
   "id": "f8d9ec85",
   "metadata": {},
   "source": [
    "模型的保存于读取,state_dict()：就是以字典形式保存的权重参数，当参数比较多的时候还会有一些其他的数据"
   ]
  },
  {
   "cell_type": "code",
   "execution_count": 48,
   "id": "3390523a",
   "metadata": {},
   "outputs": [],
   "source": [
    "torch.save(model.state_dict(), 'model.pkl')"
   ]
  },
  {
   "cell_type": "code",
   "execution_count": 49,
   "id": "a64936c6",
   "metadata": {},
   "outputs": [
    {
     "data": {
      "text/plain": [
       "<All keys matched successfully>"
      ]
     },
     "execution_count": 49,
     "metadata": {},
     "output_type": "execute_result"
    }
   ],
   "source": [
    "model.load_state_dict(torch.load('model.pkl'))"
   ]
  }
 ],
 "metadata": {
  "kernelspec": {
   "display_name": "Python 3 (ipykernel)",
   "language": "python",
   "name": "python3"
  },
  "language_info": {
   "codemirror_mode": {
    "name": "ipython",
    "version": 3
   },
   "file_extension": ".py",
   "mimetype": "text/x-python",
   "name": "python",
   "nbconvert_exporter": "python",
   "pygments_lexer": "ipython3",
   "version": "3.9.12"
  }
 },
 "nbformat": 4,
 "nbformat_minor": 5
}
