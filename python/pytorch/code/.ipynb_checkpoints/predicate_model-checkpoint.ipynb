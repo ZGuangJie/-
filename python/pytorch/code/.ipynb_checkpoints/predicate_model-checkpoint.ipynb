{
 "cells": [
  {
   "cell_type": "code",
   "execution_count": 2,
   "id": "d044ac14",
   "metadata": {},
   "outputs": [],
   "source": [
    "import numpy as np\n",
    "import pandas as pd\n",
    "import matplotlib.pyplot as plt\n",
    "import torch\n",
    "import torch.optim as optim\n",
    "import warnings\n",
    "warnings.filterwarnings(\"ignore\")\n",
    "%matplotlib inline"
   ]
  },
  {
   "cell_type": "code",
   "execution_count": 27,
   "id": "773c899a",
   "metadata": {},
   "outputs": [
    {
     "data": {
      "text/html": [
       "<div>\n",
       "<style scoped>\n",
       "    .dataframe tbody tr th:only-of-type {\n",
       "        vertical-align: middle;\n",
       "    }\n",
       "\n",
       "    .dataframe tbody tr th {\n",
       "        vertical-align: top;\n",
       "    }\n",
       "\n",
       "    .dataframe thead th {\n",
       "        text-align: right;\n",
       "    }\n",
       "</style>\n",
       "<table border=\"1\" class=\"dataframe\">\n",
       "  <thead>\n",
       "    <tr style=\"text-align: right;\">\n",
       "      <th></th>\n",
       "      <th>Unnamed: 0</th>\n",
       "      <th>time</th>\n",
       "      <th>mmsi</th>\n",
       "      <th>sog</th>\n",
       "      <th>lon</th>\n",
       "      <th>lat</th>\n",
       "      <th>cog</th>\n",
       "      <th>index</th>\n",
       "      <th>label</th>\n",
       "    </tr>\n",
       "  </thead>\n",
       "  <tbody>\n",
       "    <tr>\n",
       "      <th>0</th>\n",
       "      <td>0</td>\n",
       "      <td>2020-10-21 14:41:00</td>\n",
       "      <td>413210950.2</td>\n",
       "      <td>5.3</td>\n",
       "      <td>114.333445</td>\n",
       "      <td>30.621990</td>\n",
       "      <td>229.4</td>\n",
       "      <td>175280.0</td>\n",
       "      <td>2.0</td>\n",
       "    </tr>\n",
       "    <tr>\n",
       "      <th>1</th>\n",
       "      <td>1</td>\n",
       "      <td>2020-10-21 14:52:31</td>\n",
       "      <td>413210950.2</td>\n",
       "      <td>4.7</td>\n",
       "      <td>114.321512</td>\n",
       "      <td>30.609108</td>\n",
       "      <td>206.9</td>\n",
       "      <td>177152.0</td>\n",
       "      <td>2.0</td>\n",
       "    </tr>\n",
       "    <tr>\n",
       "      <th>2</th>\n",
       "      <td>2</td>\n",
       "      <td>2020-10-21 14:53:51</td>\n",
       "      <td>413210950.2</td>\n",
       "      <td>4.2</td>\n",
       "      <td>114.320790</td>\n",
       "      <td>30.607520</td>\n",
       "      <td>196.0</td>\n",
       "      <td>177371.0</td>\n",
       "      <td>2.0</td>\n",
       "    </tr>\n",
       "    <tr>\n",
       "      <th>3</th>\n",
       "      <td>3</td>\n",
       "      <td>2020-10-21 14:55:01</td>\n",
       "      <td>413210950.2</td>\n",
       "      <td>4.0</td>\n",
       "      <td>114.319842</td>\n",
       "      <td>30.606552</td>\n",
       "      <td>226.4</td>\n",
       "      <td>177551.0</td>\n",
       "      <td>2.0</td>\n",
       "    </tr>\n",
       "    <tr>\n",
       "      <th>4</th>\n",
       "      <td>4</td>\n",
       "      <td>2020-10-21 14:55:11</td>\n",
       "      <td>413210950.2</td>\n",
       "      <td>4.0</td>\n",
       "      <td>114.319692</td>\n",
       "      <td>30.606425</td>\n",
       "      <td>224.5</td>\n",
       "      <td>177575.0</td>\n",
       "      <td>2.0</td>\n",
       "    </tr>\n",
       "    <tr>\n",
       "      <th>...</th>\n",
       "      <td>...</td>\n",
       "      <td>...</td>\n",
       "      <td>...</td>\n",
       "      <td>...</td>\n",
       "      <td>...</td>\n",
       "      <td>...</td>\n",
       "      <td>...</td>\n",
       "      <td>...</td>\n",
       "      <td>...</td>\n",
       "    </tr>\n",
       "    <tr>\n",
       "      <th>39359</th>\n",
       "      <td>56</td>\n",
       "      <td>2020-10-21 16:58:38</td>\n",
       "      <td>413819315.0</td>\n",
       "      <td>9.1</td>\n",
       "      <td>114.315977</td>\n",
       "      <td>30.598928</td>\n",
       "      <td>32.3</td>\n",
       "      <td>195772.0</td>\n",
       "      <td>2.0</td>\n",
       "    </tr>\n",
       "    <tr>\n",
       "      <th>39360</th>\n",
       "      <td>57</td>\n",
       "      <td>2020-10-21 17:01:53</td>\n",
       "      <td>413819315.0</td>\n",
       "      <td>9.1</td>\n",
       "      <td>114.321322</td>\n",
       "      <td>30.605763</td>\n",
       "      <td>36.4</td>\n",
       "      <td>196204.0</td>\n",
       "      <td>2.0</td>\n",
       "    </tr>\n",
       "    <tr>\n",
       "      <th>39361</th>\n",
       "      <td>58</td>\n",
       "      <td>2020-10-21 17:02:24</td>\n",
       "      <td>413819315.0</td>\n",
       "      <td>9.0</td>\n",
       "      <td>114.322237</td>\n",
       "      <td>30.606813</td>\n",
       "      <td>37.9</td>\n",
       "      <td>196286.0</td>\n",
       "      <td>2.0</td>\n",
       "    </tr>\n",
       "    <tr>\n",
       "      <th>39362</th>\n",
       "      <td>59</td>\n",
       "      <td>2020-10-21 17:08:55</td>\n",
       "      <td>413819315.0</td>\n",
       "      <td>9.0</td>\n",
       "      <td>114.335015</td>\n",
       "      <td>30.618763</td>\n",
       "      <td>48.4</td>\n",
       "      <td>197219.0</td>\n",
       "      <td>2.0</td>\n",
       "    </tr>\n",
       "    <tr>\n",
       "      <th>39363</th>\n",
       "      <td>60</td>\n",
       "      <td>2020-10-21 17:15:14</td>\n",
       "      <td>413819315.0</td>\n",
       "      <td>9.0</td>\n",
       "      <td>114.349295</td>\n",
       "      <td>30.628945</td>\n",
       "      <td>52.6</td>\n",
       "      <td>198071.0</td>\n",
       "      <td>2.0</td>\n",
       "    </tr>\n",
       "  </tbody>\n",
       "</table>\n",
       "<p>39364 rows × 9 columns</p>\n",
       "</div>"
      ],
      "text/plain": [
       "       Unnamed: 0                 time         mmsi  sog         lon  \\\n",
       "0               0  2020-10-21 14:41:00  413210950.2  5.3  114.333445   \n",
       "1               1  2020-10-21 14:52:31  413210950.2  4.7  114.321512   \n",
       "2               2  2020-10-21 14:53:51  413210950.2  4.2  114.320790   \n",
       "3               3  2020-10-21 14:55:01  413210950.2  4.0  114.319842   \n",
       "4               4  2020-10-21 14:55:11  413210950.2  4.0  114.319692   \n",
       "...           ...                  ...          ...  ...         ...   \n",
       "39359          56  2020-10-21 16:58:38  413819315.0  9.1  114.315977   \n",
       "39360          57  2020-10-21 17:01:53  413819315.0  9.1  114.321322   \n",
       "39361          58  2020-10-21 17:02:24  413819315.0  9.0  114.322237   \n",
       "39362          59  2020-10-21 17:08:55  413819315.0  9.0  114.335015   \n",
       "39363          60  2020-10-21 17:15:14  413819315.0  9.0  114.349295   \n",
       "\n",
       "             lat    cog     index  label  \n",
       "0      30.621990  229.4  175280.0    2.0  \n",
       "1      30.609108  206.9  177152.0    2.0  \n",
       "2      30.607520  196.0  177371.0    2.0  \n",
       "3      30.606552  226.4  177551.0    2.0  \n",
       "4      30.606425  224.5  177575.0    2.0  \n",
       "...          ...    ...       ...    ...  \n",
       "39359  30.598928   32.3  195772.0    2.0  \n",
       "39360  30.605763   36.4  196204.0    2.0  \n",
       "39361  30.606813   37.9  196286.0    2.0  \n",
       "39362  30.618763   48.4  197219.0    2.0  \n",
       "39363  30.628945   52.6  198071.0    2.0  \n",
       "\n",
       "[39364 rows x 9 columns]"
      ]
     },
     "execution_count": 27,
     "metadata": {},
     "output_type": "execute_result"
    }
   ],
   "source": [
    "features = pd.read_csv('data/shipdata.csv')\n",
    "features"
   ]
  },
  {
   "cell_type": "code",
   "execution_count": 28,
   "id": "05841040",
   "metadata": {},
   "outputs": [
    {
     "data": {
      "text/plain": [
       "Index(['Unnamed: 0', 'time', 'mmsi', 'sog', 'lon', 'lat', 'cog', 'index',\n",
       "       'label'],\n",
       "      dtype='object')"
      ]
     },
     "execution_count": 28,
     "metadata": {},
     "output_type": "execute_result"
    }
   ],
   "source": [
    "features.time = pd.to_datetime(features.time)\n",
    "features.columns"
   ]
  },
  {
   "cell_type": "markdown",
   "id": "cbe0017d",
   "metadata": {},
   "source": [
    "数据预处理"
   ]
  },
  {
   "cell_type": "code",
   "execution_count": 29,
   "id": "1aabdca6",
   "metadata": {},
   "outputs": [
    {
     "data": {
      "text/plain": [
       "array([[4.13210950e+08, 5.30000000e+00, 1.14333445e+02, 3.06219900e+01,\n",
       "        2.29400000e+02, 1.75280000e+05],\n",
       "       [4.13210950e+08, 4.70000000e+00, 1.14321512e+02, 3.06091080e+01,\n",
       "        2.06900000e+02, 1.77152000e+05],\n",
       "       [4.13210950e+08, 4.20000000e+00, 1.14320790e+02, 3.06075200e+01,\n",
       "        1.96000000e+02, 1.77371000e+05],\n",
       "       ...,\n",
       "       [4.13819315e+08, 9.00000000e+00, 1.14322237e+02, 3.06068130e+01,\n",
       "        3.79000000e+01, 1.96286000e+05],\n",
       "       [4.13819315e+08, 9.00000000e+00, 1.14335015e+02, 3.06187630e+01,\n",
       "        4.84000000e+01, 1.97219000e+05],\n",
       "       [4.13819315e+08, 9.00000000e+00, 1.14349295e+02, 3.06289450e+01,\n",
       "        5.26000000e+01, 1.98071000e+05]])"
      ]
     },
     "execution_count": 29,
     "metadata": {},
     "output_type": "execute_result"
    }
   ],
   "source": [
    "#标签单独保存\n",
    "labels = np.array(features['label'])\n",
    "#删除原数据里面的标签\n",
    "features = features.drop(['label','Unnamed: 0','time'], axis=1)\n",
    "#将数据的列名保存一下\n",
    "feture_colmns = list(features.columns)\n",
    "features = np.array(features)\n",
    "features"
   ]
  },
  {
   "cell_type": "code",
   "execution_count": 30,
   "id": "36ede15e",
   "metadata": {},
   "outputs": [
    {
     "data": {
      "text/plain": [
       "(39364, 6)"
      ]
     },
     "execution_count": 30,
     "metadata": {},
     "output_type": "execute_result"
    }
   ],
   "source": [
    "features.shape"
   ]
  },
  {
   "cell_type": "code",
   "execution_count": 32,
   "id": "5b1aeb71",
   "metadata": {},
   "outputs": [
    {
     "data": {
      "text/plain": [
       "array([0.08624542, 0.05012773, 2.07576728, 2.02230553, 0.81555258,\n",
       "       1.36450404])"
      ]
     },
     "execution_count": 32,
     "metadata": {},
     "output_type": "execute_result"
    }
   ],
   "source": [
    "from sklearn import preprocessing\n",
    "input_features = preprocessing.StandardScaler().fit_transform(features)\n",
    "input_features[0]"
   ]
  },
  {
   "cell_type": "markdown",
   "id": "10254a77",
   "metadata": {},
   "source": [
    "构建网络模型"
   ]
  },
  {
   "cell_type": "code",
   "execution_count": null,
   "id": "c47e68fe",
   "metadata": {},
   "outputs": [],
   "source": []
  }
 ],
 "metadata": {
  "kernelspec": {
   "display_name": "Python(pytorch-gpu)",
   "language": "python",
   "name": "base"
  },
  "language_info": {
   "codemirror_mode": {
    "name": "ipython",
    "version": 3
   },
   "file_extension": ".py",
   "mimetype": "text/x-python",
   "name": "python",
   "nbconvert_exporter": "python",
   "pygments_lexer": "ipython3",
   "version": "3.9.12"
  }
 },
 "nbformat": 4,
 "nbformat_minor": 5
}
